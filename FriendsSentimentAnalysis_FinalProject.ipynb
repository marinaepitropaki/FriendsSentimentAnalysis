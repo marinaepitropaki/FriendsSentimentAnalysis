{
 "cells": [
  {
   "cell_type": "code",
   "execution_count": 14,
   "id": "2a332ec4-cd02-44ee-ae91-23de417ed4b4",
   "metadata": {},
   "outputs": [
    {
     "name": "stdout",
     "output_type": "stream",
     "text": [
      "16\n"
     ]
    }
   ],
   "source": [
    "import pandas as pd\n",
    "import glob\n",
    "import os\n",
    "import re\n",
    "\n",
    "d = '..\\Downloads\\scripts' \n",
    "\n",
    "list_of_episodes = os.listdir(d)\n",
    "\n",
    "#input each apisode into a list of str \n",
    "text_file = open(\"..\\Downloads\\scripts\\{}\".format(list_of_episodes[0]), \"r\")\n",
    "episode_script = text_file.read()\n",
    "text_file.close()\n",
    " \n",
    "scenes_of_episode = re.split('\\[Scene:',episode_script)\n",
    "print(len(scenes_of_episode))\n"
   ]
  },
  {
   "cell_type": "code",
   "execution_count": 1,
   "id": "b06f5078-c30f-4fef-8b81-5e738047c4cc",
   "metadata": {},
   "outputs": [
    {
     "name": "stdout",
     "output_type": "stream",
     "text": [
      "woohoo\n"
     ]
    }
   ],
   "source": [
    "print(\"woohoo\")"
   ]
  },
  {
   "cell_type": "code",
   "execution_count": null,
   "id": "163243bc-e588-4fbb-923f-bce8c17e860e",
   "metadata": {},
   "outputs": [],
   "source": []
  }
 ],
 "metadata": {
  "kernelspec": {
   "display_name": "Python 3 (ipykernel)",
   "language": "python",
   "name": "python3"
  },
  "language_info": {
   "codemirror_mode": {
    "name": "ipython",
    "version": 3
   },
   "file_extension": ".py",
   "mimetype": "text/x-python",
   "name": "python",
   "nbconvert_exporter": "python",
   "pygments_lexer": "ipython3",
   "version": "3.9.12"
  }
 },
 "nbformat": 4,
 "nbformat_minor": 5
}
