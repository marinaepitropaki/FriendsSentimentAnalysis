{
 "cells": [
  {
   "cell_type": "code",
   "execution_count": null,
   "id": "2a332ec4-cd02-44ee-ae91-23de417ed4b4",
   "metadata": {
    "scrolled": true
   },
   "outputs": [],
   "source": [
    "import pandas as pd\n",
    "import glob\n",
    "import os \n",
    "import re\n",
    "import networkx as nx\n",
    "import matplotlib.pyplot as plt\n",
    "from fa2 import ForceAtlas2\n",
    "import community\n",
    "from collections import Counter\n",
    "from scipy.sparse import coo_array"
   ]
  },
  {
   "cell_type": "code",
   "execution_count": null,
   "id": "7d1e5e80",
   "metadata": {},
   "outputs": [],
   "source": [
    "# remove later\n",
    "# ~\n",
    "marinas_path = '/Users/mep/Desktop/mep/SocialGraphs/FriendsSentimentAnalysis/scripts'"
   ]
  },
  {
   "cell_type": "code",
   "execution_count": null,
   "id": "31ffeaef",
   "metadata": {},
   "outputs": [],
   "source": [
    "# remove later\n",
    "# stella add your path here!!\n",
    "stellas_path = r'C:\\Users\\stykaly\\OneDrive - DFDS\\Documents\\GitHub\\FriendsSentimentAnalysis\\scripts'"
   ]
  },
  {
   "cell_type": "code",
   "execution_count": null,
   "id": "a8386fef",
   "metadata": {},
   "outputs": [],
   "source": [
    "# change according to who's working\n",
    "episodes_path = marinas_path"
   ]
  },
  {
   "cell_type": "code",
   "execution_count": null,
   "id": "163243bc-e588-4fbb-923f-bce8c17e860e",
   "metadata": {},
   "outputs": [],
   "source": [
    "#input each apisode into a list of str , returns dictionary with episode no as key and script string a value\n",
    "season_episodes={}\n",
    "def make_season_dictionary(episodes_path):\n",
    "    season_episodes={}\n",
    "    list_of_episodes = os.listdir(episodes_path)\n",
    "    list_of_episodes= sorted(list_of_episodes)\n",
    "    for episode in range(len(list_of_episodes)):  # ONLY FOR 1ST SEASON!!\n",
    "        text_file = open(episodes_path+\"/\"+list_of_episodes[episode], \"r\",encoding='utf8')\n",
    "        episode_script = text_file.read()\n",
    "        text_file.close()\n",
    "        season_episodes['{}'.format(f'episode{episode}')]=episode_script\n",
    "    return season_episodes\n",
    "    #print(season_episodes)\n",
    "    \n",
    "season_dictionary=make_season_dictionary(episodes_path)\n"
   ]
  },
  {
   "cell_type": "code",
   "execution_count": null,
   "id": "f26e2ab9",
   "metadata": {},
   "outputs": [],
   "source": [
    "#takes a str and splits on Scene, returns list of scenes\n",
    "def split_episode_scenes(episode_script):\n",
    "    scenes_of_episode = re.split(r'\\[Scene:',episode_script)\n",
    "    return scenes_of_episode\n",
    "\n",
    "\n",
    "# takes list as input and extracts list of locations\n",
    "def locations_finder(scenes_of_episode):\n",
    "    location_list = []\n",
    "    for scene in range(1,len(scenes_of_episode)):\n",
    "        scenes_of_episode[scene]= re.sub(r';',r',',  scenes_of_episode[scene])\n",
    "        scenes_of_episode[scene]= scenes_of_episode[scene].lower()\n",
    "        scenes_of_episode[scene]= re.sub(r'rach',r'rachel',  scenes_of_episode[scene])\n",
    "        scenes_of_episode[scene]= re.sub(r'mnca',r'monica',  scenes_of_episode[scene])\n",
    "        scenes_of_episode[scene]= re.sub(r'chan',r'chandler',  scenes_of_episode[scene])\n",
    "        scenes_of_episode[scene]= re.sub(r'phoe',r'phoebe',  scenes_of_episode[scene])\n",
    "        scenes_of_episode[scene]= re.sub(r'phoebebe',r'phoebe',  scenes_of_episode[scene])\n",
    "        scenes_of_episode[scene]= re.sub(r'estl',r'estelle',  scenes_of_episode[scene])\n",
    "        scenes_of_episode[scene]= re.sub(r'rachelel',r'rachel',  scenes_of_episode[scene])\n",
    "        scenes_of_episode[scene]= re.sub(r'chandlerdler',r'chandler',  scenes_of_episode[scene])\n",
    "        location = scenes_of_episode[scene].partition(\",\")[0]\n",
    "        location_list.append(location)\n",
    "    return location_list\n",
    "\n",
    "#takes list as input and extracts list of lists of names of characters, removes duplicates\n",
    "def character_finder(scenes_of_episode):\n",
    "    characters_of_scene_list = []\n",
    "    for scene in range(1,len(scenes_of_episode)):\n",
    "        character= re.findall('\\n[a-zA-Z]+\\:',scenes_of_episode[scene])\n",
    "        for i in range (len(character)):\n",
    "            character[i] = re.sub(r'\\n',r'',character[i])\n",
    "            character[i] = re.sub(r':',r'',character[i])\n",
    "        characters_of_scene_list.append(character)\n",
    "    for scene in range (len(characters_of_scene_list)):\n",
    "        characters_of_scene_list[scene]= list(dict.fromkeys(characters_of_scene_list[scene]))\n",
    "    return characters_of_scene_list\n"
   ]
  },
  {
   "cell_type": "code",
   "execution_count": null,
   "id": "9d33bfbb-00a0-4d67-8283-28272cc30cd6",
   "metadata": {},
   "outputs": [],
   "source": [
    "##creates a nested dictionary with episodes as keys and a dictionary with scenes as keys and text, location, characters as values\n",
    "episode_dictionary={}\n",
    "for episode in list(season_dictionary.keys()):\n",
    "    list_of_scenes=split_episode_scenes(season_dictionary[episode])\n",
    "    locations_list=locations_finder(list_of_scenes)\n",
    "    character_lists=character_finder(list_of_scenes)\n",
    "    episode_dictionary['{}'.format(episode)]={}\n",
    "    for i in range (len(list_of_scenes)-1):\n",
    "        episode_dictionary['{}'.format(episode)]['{}'.format(f'scene{i}')]={}\n",
    "        episode_dictionary['{}'.format(episode)]['{}'.format(f'scene{i}')]['text']=list_of_scenes[i+1]\n",
    "        episode_dictionary['{}'.format(episode)]['{}'.format(f'scene{i}')]['location']=locations_list[i]\n",
    "        episode_dictionary['{}'.format(episode)]['{}'.format(f'scene{i}')]['characters']=character_lists[i]\n",
    "   \n",
    "      "
   ]
  },
  {
   "cell_type": "code",
   "execution_count": null,
   "id": "9b028b09-caec-4ca1-b6f4-b5bb0123608c",
   "metadata": {
    "scrolled": true
   },
   "outputs": [],
   "source": [
    "#creates a dataframe out of the episodes_dictionary\n",
    "our_dataframe=pd.concat({\n",
    "        k: pd.DataFrame.from_dict(v, 'index') for k, v in episode_dictionary.items()\n",
    "    }, \n",
    "    axis=0)\n",
    "our_dataframe.head(4)"
   ]
  },
  {
   "cell_type": "code",
   "execution_count": null,
   "id": "cd65688c-e42d-4438-b0e4-9e171f775783",
   "metadata": {},
   "outputs": [],
   "source": [
    "# Creates the network and adds the edges between the connected nodes\n",
    "G_S1= nx.Graph()\n",
    "G_S1.clear()\n",
    "for i in range(len(our_dataframe['characters'])):\n",
    "    for j in range(len(our_dataframe['characters'][i])-1):\n",
    "        for k in range(j,len(our_dataframe['characters'][i])-1):\n",
    "             G_S1.add_edge(our_dataframe['characters'][i][j], our_dataframe['characters'][i][k+1])\n",
    "    \n",
    "G_S1.remove_nodes_from(list(nx.isolates(G_S1)))\n",
    "random_words_list=['waitress','actor','woman','man','actress','street','waiter','assistant','passenger',\n",
    "                   'girl','boy','video','tv','radio', 'salesman', 'waiters','housekeeper','dog',\n",
    "                  'boss','intern','cashier','chandlerdlers','passerby','friend','employee','lady','dream monica','dream joey','all']\n",
    "G_S1.remove_nodes_from(random_words_list)\n",
    "plt.figure(3,figsize=(20,20)) \n",
    "nx.draw(G_S1,with_labels=True,node_size = 10)\n",
    "plt.title('all seasons')"
   ]
  },
  {
   "cell_type": "code",
   "execution_count": null,
   "id": "19e1d812-4fed-4246-bc28-cd5b26bd95c0",
   "metadata": {},
   "outputs": [],
   "source": [
    "G_S1.number_of_nodes()\n",
    "G_S1.number_of_edges()\n",
    "print (f'The number of nodes is { G_S1.number_of_nodes()} \\nThe number of links is {G_S1.number_of_edges()}')"
   ]
  },
  {
   "cell_type": "code",
   "execution_count": null,
   "id": "3bd8a9d3-13a8-4256-bd6f-a294f4a45b11",
   "metadata": {},
   "outputs": [],
   "source": [
    "# creates color list and size list for all the nodes\n",
    "# using the 'universe' attribute for coloring\n",
    "   \n",
    "# Using the degree of every node for custom sizing\n",
    "degree=list(G_S1.degree())\n",
    "# converts list of tuple to list of lists\n",
    "res = [list(ele) for ele in degree]\n",
    "custom_size=[]\n",
    "for i in range(len(degree)):\n",
    "    custom_size.append(res[i][1]*10)"
   ]
  },
  {
   "cell_type": "code",
   "execution_count": null,
   "id": "b8af51ce-d9cf-44a6-9963-bd7a8d0831ae",
   "metadata": {
    "scrolled": true
   },
   "outputs": [],
   "source": [
    "forceatlas2 = ForceAtlas2(\n",
    "                        # Behavior alternatives\n",
    "                        outboundAttractionDistribution=True,  \n",
    "                        edgeWeightInfluence=0,\n",
    "\n",
    "                        # Performance\n",
    "                        jitterTolerance=0.1,  # Tolerance\n",
    "                        barnesHutOptimize=True,\n",
    "                        barnesHutTheta=1.2,\n",
    "\n",
    "                        # Tuning\n",
    "                        scalingRatio=1.0,\n",
    "                        strongGravityMode=False,\n",
    "                        gravity=0.7,\n",
    "\n",
    "                        # Log\n",
    "                        verbose=True)\n",
    "\n",
    "fig, ax = plt.subplots(figsize=(20,20))\n",
    "positions = forceatlas2.forceatlas2_networkx_layout(G_S1, pos=None, iterations=2000)\n",
    "nx.draw_networkx_nodes(G_S1, positions,ax=ax, node_size=custom_size, alpha=0.4)\n",
    "nx.draw_networkx_edges(G_S1, positions,ax=ax, edge_color=\"yellow\", alpha=0.1)\n",
    "plt.title('Network visualisation ')\n",
    "plt.axis('off')\n",
    "plt.show()"
   ]
  },
  {
   "cell_type": "code",
   "execution_count": null,
   "id": "f66300ae-1bee-41ad-b107-f0c8bc410861",
   "metadata": {},
   "outputs": [],
   "source": [
    "# First compute the best partition\n",
    "partition = community.best_partition(G_S1)\n",
    "\n",
    "\n",
    "size =len(set(partition.values()))\n",
    "\n",
    "# Find number of communities and print each one's size\n",
    "print(f'The friends network has {int(size)} communities')\n",
    "\n",
    "comm_sizes=Counter(partition.values())\n",
    "community_sizes_list=list(comm_sizes.values())\n",
    "community_sizes_list.sort()\n",
    "for i in range (len(community_sizes_list)):\n",
    "    print(f'Community {i} has size {community_sizes_list[i]}')\n",
    "\n",
    "# Add 'community' attribute to node \n",
    "nx.set_node_attributes(G_S1, partition, name= 'community')"
   ]
  },
  {
   "cell_type": "code",
   "execution_count": null,
   "id": "c89ab625-0e67-40be-9e7c-1dac0103ba20",
   "metadata": {},
   "outputs": [],
   "source": [
    "color_dictionary={0:'deeppink',\n",
    "                  1:'purple',\n",
    "                  2: 'aquamarine',\n",
    "                  3:'red',\n",
    "                  4:'blue',\n",
    "                  5:'orange',\n",
    "                  6:'coral',\n",
    "                  7:'green',\n",
    "                  8:'brown',\n",
    "                  9:'peachpuff',\n",
    "                  10:'black',\n",
    "                  11:'pink',\n",
    "                  12:'wheat',\n",
    "                  13:'gray',\n",
    "                  14:'lightcoral',\n",
    "                  15:'beige',\n",
    "                  16:'indigo',\n",
    "                  17:'lightgreen'}\n",
    "\n",
    "# Creates color list and size list for all the nodes\n",
    "# Using the 'community' attribute for coloring\n",
    "community=nx.get_node_attributes(G_S1, 'community')  \n",
    "nodeslist=list(G_S1.nodes())\n",
    "custom_color=[]\n",
    "for i in nodeslist:\n",
    "    custom_color.append(color_dictionary[community[i]])\n",
    "    \n",
    "# Using the degree of every node for custom sizing\n",
    "degree=list(G_S1.degree())\n",
    "# Converts list of tuple to list of lists\n",
    "res = [list(ele) for ele in degree]\n",
    "custom_size=[]\n",
    "for i in range(len(degree)):\n",
    "    custom_size.append(res[i][1]*10)\n"
   ]
  },
  {
   "cell_type": "code",
   "execution_count": null,
   "id": "a65f8351-efa6-4742-88eb-e3ee64ddbafe",
   "metadata": {},
   "outputs": [],
   "source": [
    "forceatlas2 = ForceAtlas2(\n",
    "                        # Behavior alternatives\n",
    "                        outboundAttractionDistribution=True,  \n",
    "                        edgeWeightInfluence=0,\n",
    "\n",
    "                        # Performance\n",
    "                        jitterTolerance=0.5,  # Tolerance\n",
    "                        barnesHutOptimize=True,\n",
    "                        barnesHutTheta=1.2,\n",
    "\n",
    "                        # Tuning\n",
    "                        scalingRatio=10,\n",
    "                        strongGravityMode=False,\n",
    "                        gravity=0,\n",
    "\n",
    "                        # Log\n",
    "                        verbose=True)\n",
    "\n",
    "\n",
    "fig, ax = plt.subplots(figsize=(20,20))\n",
    "positions = forceatlas2.forceatlas2_networkx_layout(G_S1, pos=None, iterations=2000)\n",
    "nx.draw_networkx_nodes(G_S1, positions,ax=ax, node_color=custom_color, node_size=custom_size, label=nodeslist, alpha=0.4)\n",
    "nx.draw_networkx_edges(G_S1, positions,ax=ax, edge_color=\"yellow\", alpha=0.1)\n",
    "plt.title(\"Visualisation friends' network communities\")\n",
    "plt.axis('off')\n",
    "plt.show()"
   ]
  },
  {
   "cell_type": "code",
   "execution_count": null,
   "id": "cdc2bc81-ebdc-4b30-a242-0393b7cfa744",
   "metadata": {},
   "outputs": [],
   "source": []
  }
 ],
 "metadata": {
  "kernelspec": {
   "display_name": "Python 3 (ipykernel)",
   "language": "python",
   "name": "python3"
  },
  "language_info": {
   "codemirror_mode": {
    "name": "ipython",
    "version": 3
   },
   "file_extension": ".py",
   "mimetype": "text/x-python",
   "name": "python",
   "nbconvert_exporter": "python",
   "pygments_lexer": "ipython3",
   "version": "3.9.12"
  }
 },
 "nbformat": 4,
 "nbformat_minor": 5
}
